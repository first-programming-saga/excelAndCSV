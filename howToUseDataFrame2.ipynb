{
  "cells": [
    {
      "metadata": {},
      "cell_type": "markdown",
      "source": [
        "# pandas.DataFrameの基本的使い方:2"
      ]
    },
    {
      "metadata": {
        "trusted": true
      },
      "cell_type": "code",
      "source": [
        "import pandas"
      ],
      "execution_count": null,
      "outputs": []
    },
    {
      "metadata": {
        "trusted": true
      },
      "cell_type": "code",
      "source": [
        "filename = 'data.xlsx'"
      ],
      "execution_count": null,
      "outputs": []
    },
    {
      "metadata": {
        "trusted": true
      },
      "cell_type": "code",
      "source": [
        "#Excelファイルを読み、pandas.DataFrameとする\n",
        "with pandas.ExcelFile(filename) as f:\n",
        "    data = pandas.read_excel(f, index_col = 0, header = 0)"
      ],
      "execution_count": null,
      "outputs": []
    },
    {
      "metadata": {},
      "cell_type": "markdown",
      "source": [
        "行を取り出す"
      ]
    },
    {
      "metadata": {
        "trusted": true,
        "scrolled": false
      },
      "cell_type": "code",
      "source": [
        "print('Seriesの操作')\n",
        "ser = data.loc['Tim']\n",
        "for k in ser.index:\n",
        "    v = ser[k]\n",
        "    print(f'ser[{k}]:{v}')"
      ],
      "execution_count": null,
      "outputs": []
    },
    {
      "metadata": {},
      "cell_type": "markdown",
      "source": [
        "第一カラムにラベルを付ける"
      ]
    },
    {
      "metadata": {
        "trusted": true
      },
      "cell_type": "code",
      "source": [
        "print(\"操作前\")\n",
        "print(data.index.name)\n",
        "data.index.name = \"name\"\n",
        "print(\"操作後\")\n",
        "print(data.index.name)\n",
        "print(data)"
      ],
      "execution_count": null,
      "outputs": []
    },
    {
      "metadata": {},
      "cell_type": "markdown",
      "source": [
        "## 課題\n",
        "\"Math\"の平均点を計算しましょう。"
      ]
    },
    {
      "metadata": {
        "trusted": true
      },
      "cell_type": "code",
      "source": [],
      "execution_count": null,
      "outputs": []
    },
    {
      "metadata": {},
      "cell_type": "markdown",
      "source": [
        "## ミニテスト課題\n",
        "全科目について、各科目の平均点を計算するプログラムを作成しましょう。ヒント：data.columnsの各値が科目名です。各科目名の成績一覧を取得し、平均を計算します。"
      ]
    },
    {
      "metadata": {
        "trusted": true
      },
      "cell_type": "code",
      "source": [],
      "execution_count": null,
      "outputs": []
    },
    {
      "metadata": {},
      "cell_type": "markdown",
      "source": [
        "## 発展問題\n",
        "全科目について、科目名をキーに、その平均点を値とする辞書型を返す関数を作成しなさい。\n",
        "\n",
        "余裕のある人は、トライしてください。"
      ]
    },
    {
      "metadata": {
        "trusted": true
      },
      "cell_type": "code",
      "source": [],
      "execution_count": null,
      "outputs": []
    }
  ],
  "metadata": {
    "kernelspec": {
      "name": "python394jvsc74a57bd08eac0b877443e672c512fc10f9a40a6551a41731384696f22385f08b2b6c8da7",
      "display_name": "Python 3.9.4 64-bit ('3.9.4': pyenv)"
    },
    "language_info": {
      "mimetype": "text/x-python",
      "nbconvert_exporter": "python",
      "name": "python",
      "pygments_lexer": "ipython3",
      "version": "3.9.4",
      "file_extension": ".py",
      "codemirror_mode": {
        "version": 3,
        "name": "ipython"
      }
    },
    "metadata": {
      "interpreter": {
        "hash": "8eac0b877443e672c512fc10f9a40a6551a41731384696f22385f08b2b6c8da7"
      }
    }
  },
  "nbformat": 4,
  "nbformat_minor": 2
}