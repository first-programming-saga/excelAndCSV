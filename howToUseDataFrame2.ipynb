{
  "cells": [
    {
      "attachments": {},
      "cell_type": "markdown",
      "metadata": {},
      "source": [
        "# pandas.DataFrameの基本的使い方: 2"
      ]
    },
    {
      "cell_type": "code",
      "execution_count": 1,
      "metadata": {
        "trusted": true
      },
      "outputs": [],
      "source": [
        "import pandas"
      ]
    },
    {
      "cell_type": "code",
      "execution_count": 2,
      "metadata": {
        "trusted": true
      },
      "outputs": [],
      "source": [
        "filename = 'data.xlsx'"
      ]
    },
    {
      "cell_type": "code",
      "execution_count": 3,
      "metadata": {
        "trusted": true
      },
      "outputs": [],
      "source": [
        "#Excelファイルを読み、pandas.DataFrameとする\n",
        "with pandas.ExcelFile(filename) as f:\n",
        "    data = pandas.read_excel(f, index_col = 0, header = 0)"
      ]
    },
    {
      "attachments": {},
      "cell_type": "markdown",
      "metadata": {},
      "source": [
        "行を取り出す"
      ]
    },
    {
      "cell_type": "code",
      "execution_count": 4,
      "metadata": {
        "scrolled": false,
        "trusted": true
      },
      "outputs": [
        {
          "name": "stdout",
          "output_type": "stream",
          "text": [
            "Seriesの操作\n",
            "ser[English]:80\n",
            "ser[Math]:90\n",
            "ser[Science]:95\n",
            "ser[Social]:70\n"
          ]
        }
      ],
      "source": [
        "print('Seriesの操作')\n",
        "ser = data.loc['Tim']\n",
        "for k in ser.index:\n",
        "    v = ser[k]\n",
        "    print(f'ser[{k}]:{v}')"
      ]
    },
    {
      "attachments": {},
      "cell_type": "markdown",
      "metadata": {},
      "source": [
        "第一カラムにラベルを付ける"
      ]
    },
    {
      "cell_type": "code",
      "execution_count": 5,
      "metadata": {
        "trusted": true
      },
      "outputs": [
        {
          "name": "stdout",
          "output_type": "stream",
          "text": [
            "操作前\n",
            "None\n",
            "操作後\n",
            "name\n",
            "       English  Math  Science  Social\n",
            "name                                 \n",
            "Tim         80    90       95      70\n",
            "John        80    60       70     100\n",
            "Kim        100    60       65      80\n",
            "Sally       70    80       95      70\n",
            "Tom         80    70       80      60\n",
            "Bob         70   100       90      80\n"
          ]
        }
      ],
      "source": [
        "print(\"操作前\")\n",
        "print(data.index.name)\n",
        "data.index.name = \"name\"\n",
        "print(\"操作後\")\n",
        "print(data.index.name)\n",
        "print(data)"
      ]
    },
    {
      "attachments": {},
      "cell_type": "markdown",
      "metadata": {},
      "source": [
        "## Seriesに対する関数\n",
        "様々な関数が用意されている。例を挙げる\n",
        "- `mean()`: 平均\n",
        "- `min()`: 最小値\n",
        "- `max()`: 最大値\n",
        "- `sum()`: 和\n",
        "- `median()`: 中央値"
      ]
    },
    {
      "cell_type": "code",
      "execution_count": 6,
      "metadata": {
        "trusted": true
      },
      "outputs": [
        {
          "name": "stdout",
          "output_type": "stream",
          "text": [
            "平均: 76.66666666666667\n",
            "最高点: 100\n",
            "最低点: 60\n"
          ]
        }
      ],
      "source": [
        "ser :pandas.Series = data['Math']\n",
        "print('平均:',ser.mean())\n",
        "print('最高点:',ser.max())\n",
        "print('最低点:',ser.min())\n"
      ]
    }
  ],
  "metadata": {
    "kernelspec": {
      "display_name": "Python 3.9.10 ('myenv')",
      "language": "python",
      "name": "python3"
    },
    "language_info": {
      "codemirror_mode": {
        "name": "ipython",
        "version": 3
      },
      "file_extension": ".py",
      "mimetype": "text/x-python",
      "name": "python",
      "nbconvert_exporter": "python",
      "pygments_lexer": "ipython3",
      "version": "3.11.6"
    },
    "metadata": {
      "interpreter": {
        "hash": "8eac0b877443e672c512fc10f9a40a6551a41731384696f22385f08b2b6c8da7"
      }
    },
    "vscode": {
      "interpreter": {
        "hash": "b3b804b6b7a7d9b475cf928428dd1242016eacc24c47853aaf0f8d1d2228aa39"
      }
    }
  },
  "nbformat": 4,
  "nbformat_minor": 2
}
