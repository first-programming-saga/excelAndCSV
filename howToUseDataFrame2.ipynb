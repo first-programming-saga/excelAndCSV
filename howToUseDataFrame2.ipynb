{
  "cells": [
    {
      "metadata": {},
      "cell_type": "markdown",
      "source": "# pandas.DataFrameの基本的使い方(データの読み込み)"
    },
    {
      "metadata": {
        "trusted": true
      },
      "cell_type": "code",
      "source": "import pandas",
      "execution_count": 9,
      "outputs": []
    },
    {
      "metadata": {
        "trusted": true
      },
      "cell_type": "code",
      "source": "def readFromCSV(filename):#Excelファイルを読み、pandas.DataFrameとする\n    data = pandas.read_csv(filename)\n    return data",
      "execution_count": 10,
      "outputs": []
    },
    {
      "metadata": {},
      "cell_type": "markdown",
      "source": "dataFrameのカラムを表示"
    },
    {
      "metadata": {
        "trusted": true
      },
      "cell_type": "code",
      "source": "def showColumnsAndIndex(data):\n    print('dataFrameの内容')\n    print(data)\n    print('認識されたカラム名')\n    print(data.columns)\n    print()\n",
      "execution_count": 11,
      "outputs": []
    },
    {
      "metadata": {
        "trusted": true
      },
      "cell_type": "code",
      "source": "filename = 'data2.csv'\ndf=readFromCSV(filename)\nshowColumnsAndIndex(df)\nprint('nameカラムをrow indexとして指定')\ndf.set_index('name',inplace=True)\nprint(df)",
      "execution_count": 12,
      "outputs": [
        {
          "output_type": "stream",
          "text": "dataFrameの内容\n    name  English  Math  Science  Social\n0    Tim       80    90       95      70\n1   John       80    60       70     100\n2    Kim      100    60       65      80\n3  Sally       70    80       95      70\n4    Tom       80    70       80      60\n5    Bob       70   100       90      80\n認識されたカラム名\nIndex(['name', 'English', 'Math', 'Science', 'Social'], dtype='object')\n\nnameカラムをrow indexとして指定\n       English  Math  Science  Social\nname                                 \nTim         80    90       95      70\nJohn        80    60       70     100\nKim        100    60       65      80\nSally       70    80       95      70\nTom         80    70       80      60\nBob         70   100       90      80\n",
          "name": "stdout"
        }
      ]
    }
  ],
  "metadata": {
    "kernelspec": {
      "name": "python36",
      "display_name": "Python 3.6",
      "language": "python"
    },
    "language_info": {
      "mimetype": "text/x-python",
      "nbconvert_exporter": "python",
      "name": "python",
      "pygments_lexer": "ipython3",
      "version": "3.6.6",
      "file_extension": ".py",
      "codemirror_mode": {
        "version": 3,
        "name": "ipython"
      }
    }
  },
  "nbformat": 4,
  "nbformat_minor": 2
}