{
  "cells": [
    {
      "cell_type": "markdown",
      "metadata": {},
      "source": [
        "# pandas.DataFrameの基本的使い方:2"
      ]
    },
    {
      "cell_type": "code",
      "execution_count": null,
      "metadata": {
        "trusted": true
      },
      "outputs": [],
      "source": [
        "import pandas"
      ]
    },
    {
      "cell_type": "code",
      "execution_count": null,
      "metadata": {
        "trusted": true
      },
      "outputs": [],
      "source": [
        "filename = 'data.xlsx'"
      ]
    },
    {
      "cell_type": "code",
      "execution_count": null,
      "metadata": {
        "trusted": true
      },
      "outputs": [],
      "source": [
        "#Excelファイルを読み、pandas.DataFrameとする\n",
        "with pandas.ExcelFile(filename) as f:\n",
        "    data = pandas.read_excel(f, index_col = 0, header = 0)"
      ]
    },
    {
      "cell_type": "markdown",
      "metadata": {},
      "source": [
        "行を取り出す"
      ]
    },
    {
      "cell_type": "code",
      "execution_count": null,
      "metadata": {
        "scrolled": false,
        "trusted": true
      },
      "outputs": [],
      "source": [
        "print('Seriesの操作')\n",
        "ser = data.loc['Tim']\n",
        "for k in ser.index:\n",
        "    v = ser[k]\n",
        "    print(f'ser[{k}]:{v}')"
      ]
    },
    {
      "cell_type": "markdown",
      "metadata": {},
      "source": [
        "第一カラムにラベルを付ける"
      ]
    },
    {
      "cell_type": "code",
      "execution_count": null,
      "metadata": {
        "trusted": true
      },
      "outputs": [],
      "source": [
        "print(\"操作前\")\n",
        "print(data.index.name)\n",
        "data.index.name = \"name\"\n",
        "print(\"操作後\")\n",
        "print(data.index.name)\n",
        "print(data)"
      ]
    },
    {
      "cell_type": "markdown",
      "metadata": {},
      "source": [
        "## 課題\n",
        "\"Math\"の平均点を計算しましょう。"
      ]
    },
    {
      "cell_type": "code",
      "execution_count": null,
      "metadata": {
        "trusted": true
      },
      "outputs": [],
      "source": []
    },
    {
      "cell_type": "markdown",
      "metadata": {},
      "source": [
        "## 課題\n",
        "科目名を文字列で指定すると、その平均値を返す関数subjectAverage()を作成し、動作を確認しましょう。\n"
      ]
    },
    {
      "cell_type": "code",
      "execution_count": null,
      "metadata": {},
      "outputs": [],
      "source": []
    },
    {
      "cell_type": "markdown",
      "metadata": {},
      "source": [
        "## ミニテスト課題\n",
        "全科目について、各科目の平均点を計算するプログラムを作成し、実行しましょう。\n",
        "ヒント：data.columnsの各値が科目名です。各科目名の成績一覧を取得し、平均を計算します。"
      ]
    },
    {
      "cell_type": "code",
      "execution_count": null,
      "metadata": {
        "trusted": true
      },
      "outputs": [],
      "source": []
    },
    {
      "cell_type": "markdown",
      "metadata": {},
      "source": [
        "## 発展問題\n",
        "全科目について、科目名をキーに、その平均点を値とする辞書型を返す関数averages()を作成しなさい。\n",
        "\n",
        "余裕のある人は、トライしてください。"
      ]
    },
    {
      "cell_type": "code",
      "execution_count": null,
      "metadata": {
        "trusted": true
      },
      "outputs": [],
      "source": []
    }
  ],
  "metadata": {
    "interpreter": {
      "hash": "ddafbbf4347d0b4a8ca2d67a8cf47c9a236a0ee7708cf872d86a0b5d08596010"
    },
    "kernelspec": {
      "display_name": "Python 3.9.7 64-bit (windows store)",
      "name": "python3"
    },
    "language_info": {
      "codemirror_mode": {
        "name": "ipython",
        "version": 3
      },
      "file_extension": ".py",
      "mimetype": "text/x-python",
      "name": "python",
      "nbconvert_exporter": "python",
      "pygments_lexer": "ipython3",
      "version": "3.9.7"
    },
    "metadata": {
      "interpreter": {
        "hash": "8eac0b877443e672c512fc10f9a40a6551a41731384696f22385f08b2b6c8da7"
      }
    }
  },
  "nbformat": 4,
  "nbformat_minor": 2
}
