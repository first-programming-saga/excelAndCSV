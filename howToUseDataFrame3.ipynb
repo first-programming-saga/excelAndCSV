{
  "cells": [
    {
      "cell_type": "markdown",
      "metadata": {},
      "source": [
        "# pandas.DataFrameの基本的使い方:3\n",
        "## CSVデータの読み込み"
      ]
    },
    {
      "cell_type": "code",
      "execution_count": 1,
      "metadata": {
        "trusted": true
      },
      "outputs": [],
      "source": [
        "import pandas"
      ]
    },
    {
      "cell_type": "code",
      "execution_count": 2,
      "metadata": {
        "trusted": true
      },
      "outputs": [],
      "source": [
        "def readFromCSV(filename:str)->pandas.DataFrame:\n",
        "    \"\"\"\n",
        "    Excelファイルを読み、pandas.DataFrameとする\n",
        "    \"\"\"\n",
        "    with open(filename) as f:\n",
        "        data = pandas.read_csv(f)\n",
        "    return data"
      ]
    },
    {
      "cell_type": "markdown",
      "metadata": {},
      "source": [
        "## dataFrameのカラムを表示"
      ]
    },
    {
      "cell_type": "code",
      "execution_count": 5,
      "metadata": {
        "trusted": true
      },
      "outputs": [],
      "source": [
        "def showColumnsAndIndex(data:pandas.DataFrame) -> None:\n",
        "    print('dataFrameの内容')\n",
        "    print(data)\n",
        "    print('認識されたカラム名')\n",
        "    print(data.columns)\n",
        "    print('認識されたインデックス名')\n",
        "    print(data.index)\n",
        "    print()"
      ]
    },
    {
      "cell_type": "code",
      "execution_count": 8,
      "metadata": {
        "trusted": true
      },
      "outputs": [
        {
          "name": "stdout",
          "output_type": "stream",
          "text": [
            "dataFrameの内容\n",
            "    name  English  Math  Science  Social\n",
            "0    Tim       80    90       95      70\n",
            "1   John       80    60       70     100\n",
            "2    Kim      100    60       65      80\n",
            "3  Sally       70    80       95      70\n",
            "4    Tom       80    70       80      60\n",
            "5    Bob       70   100       90      80\n",
            "認識されたカラム名\n",
            "Index(['name', 'English', 'Math', 'Science', 'Social'], dtype='object')\n",
            "認識されたインデックス名\n",
            "RangeIndex(start=0, stop=6, step=1)\n",
            "\n",
            "-----------------\n",
            "nameカラムをrow indexとして指定\n",
            "dataFrameの内容\n",
            "       English  Math  Science  Social\n",
            "name                                 \n",
            "Tim         80    90       95      70\n",
            "John        80    60       70     100\n",
            "Kim        100    60       65      80\n",
            "Sally       70    80       95      70\n",
            "Tom         80    70       80      60\n",
            "Bob         70   100       90      80\n",
            "認識されたカラム名\n",
            "Index(['English', 'Math', 'Science', 'Social'], dtype='object')\n",
            "認識されたインデックス名\n",
            "Index(['Tim', 'John', 'Kim', 'Sally', 'Tom', 'Bob'], dtype='object', name='name')\n",
            "\n"
          ]
        }
      ],
      "source": [
        "filename = 'data2.csv'\n",
        "df:pandas.DataFrame=readFromCSV(filename)\n",
        "showColumnsAndIndex(df)\n",
        "print('-----------------')\n",
        "print('nameカラムをrow indexとして指定')\n",
        "df.set_index('name', inplace = True)\n",
        "showColumnsAndIndex(df)\n"
      ]
    }
  ],
  "metadata": {
    "kernelspec": {
      "display_name": "Python 3.9.10 ('myenv')",
      "language": "python",
      "name": "python3"
    },
    "language_info": {
      "codemirror_mode": {
        "name": "ipython",
        "version": 3
      },
      "file_extension": ".py",
      "mimetype": "text/x-python",
      "name": "python",
      "nbconvert_exporter": "python",
      "pygments_lexer": "ipython3",
      "version": "3.12.2"
    },
    "vscode": {
      "interpreter": {
        "hash": "b3b804b6b7a7d9b475cf928428dd1242016eacc24c47853aaf0f8d1d2228aa39"
      }
    }
  },
  "nbformat": 4,
  "nbformat_minor": 2
}
