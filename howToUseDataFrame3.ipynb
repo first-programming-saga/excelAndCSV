{
  "cells": [
    {
      "metadata": {},
      "cell_type": "markdown",
      "source": [
        "# pandas.DataFrameの基本的使い方:3\n",
        "CSVデータの読み込み"
      ]
    },
    {
      "metadata": {
        "trusted": true
      },
      "cell_type": "code",
      "source": [
        "import pandas"
      ],
      "execution_count": null,
      "outputs": []
    },
    {
      "metadata": {
        "trusted": true
      },
      "cell_type": "code",
      "source": [
        "def readFromCSV(filename):#Excelファイルを読み、pandas.DataFrameとする\n",
        "    with open(filename) as f:\n",
        "        data = pandas.read_csv(f)\n",
        "    return data"
      ],
      "execution_count": null,
      "outputs": []
    },
    {
      "metadata": {},
      "cell_type": "markdown",
      "source": [
        "dataFrameのカラムを表示"
      ]
    },
    {
      "metadata": {
        "trusted": true
      },
      "cell_type": "code",
      "source": [
        "def showColumnsAndIndex(data):\n",
        "    print('dataFrameの内容')\n",
        "    print(data)\n",
        "    print('認識されたカラム名')\n",
        "    print(data.columns)\n",
        "    print()"
      ],
      "execution_count": null,
      "outputs": []
    },
    {
      "metadata": {
        "trusted": true
      },
      "cell_type": "code",
      "source": [
        "filename = 'data2.csv'\n",
        "df=readFromCSV(filename)\n",
        "showColumnsAndIndex(df)\n",
        "print('nameカラムをrow indexとして指定')\n",
        "df.set_index('name', inplace = True)\n",
        "print(df)\n",
        "print(df.iloc[0])"
      ],
      "execution_count": null,
      "outputs": []
    }
  ],
  "metadata": {
    "kernelspec": {
      "name": "python3",
      "display_name": "Python 3.7.8 64-bit",
      "metadata": {
        "interpreter": {
          "hash": "0dffb5442d84be890217d664a91c46e420962c190ec91d07047007dfcc46efe8"
        }
      }
    },
    "language_info": {
      "mimetype": "text/x-python",
      "nbconvert_exporter": "python",
      "name": "python",
      "pygments_lexer": "ipython3",
      "version": "3.7.8-final",
      "file_extension": ".py",
      "codemirror_mode": {
        "version": 3,
        "name": "ipython"
      }
    }
  },
  "nbformat": 4,
  "nbformat_minor": 2
}