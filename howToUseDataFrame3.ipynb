{
  "cells": [
    {
      "metadata": {},
      "cell_type": "markdown",
      "source": [
        "# pandas.DataFrameの基本的使い方:3\n",
        "CSVデータの読み込み"
      ]
    },
    {
      "metadata": {
        "trusted": true
      },
      "cell_type": "code",
      "source": [
        "import pandas"
      ],
      "execution_count": 5,
      "outputs": []
    },
    {
      "metadata": {
        "trusted": true
      },
      "cell_type": "code",
      "source": [
        "def readFromCSV(filename):#Excelファイルを読み、pandas.DataFrameとする\n",
        "    with open(filename) as f:\n",
        "        data = pandas.read_csv(f)\n",
        "    return data"
      ],
      "execution_count": 6,
      "outputs": []
    },
    {
      "metadata": {},
      "cell_type": "markdown",
      "source": [
        "dataFrameのカラムを表示"
      ]
    },
    {
      "metadata": {
        "trusted": true
      },
      "cell_type": "code",
      "source": [
        "def showColumnsAndIndex(data):\n",
        "    print('dataFrameの内容')\n",
        "    print(data)\n",
        "    print('認識されたカラム名')\n",
        "    print(data.columns)\n",
        "    print()"
      ],
      "execution_count": 7,
      "outputs": []
    },
    {
      "metadata": {
        "trusted": true
      },
      "cell_type": "code",
      "source": [
        "filename = 'data2.csv'\n",
        "df=readFromCSV(filename)\n",
        "showColumnsAndIndex(df)\n",
        "print('nameカラムをrow indexとして指定')\n",
        "df.set_index('name',inplace=True)\n",
        "print(df)\n",
        "print(df.iloc[0])"
      ],
      "execution_count": 8,
      "outputs": [
        {
          "output_type": "stream",
          "name": "stdout",
          "text": [
            "dataFrameの内容\n    name  English  Math  Science  Social\n0    Tim       80    90       95      70\n1   John       80    60       70     100\n2    Kim      100    60       65      80\n3  Sally       70    80       95      70\n4    Tom       80    70       80      60\n5    Bob       70   100       90      80\n認識されたカラム名\nIndex(['name', 'English', 'Math', 'Science', 'Social'], dtype='object')\n\nnameカラムをrow indexとして指定\n       English  Math  Science  Social\nname                                 \nTim         80    90       95      70\nJohn        80    60       70     100\nKim        100    60       65      80\nSally       70    80       95      70\nTom         80    70       80      60\nBob         70   100       90      80\nEnglish    80\nMath       90\nScience    95\nSocial     70\nName: Tim, dtype: int64\n"
          ]
        }
      ]
    }
  ],
  "metadata": {
    "kernelspec": {
      "name": "python3",
      "display_name": "Python 3.7.8 64-bit",
      "metadata": {
        "interpreter": {
          "hash": "0dffb5442d84be890217d664a91c46e420962c190ec91d07047007dfcc46efe8"
        }
      }
    },
    "language_info": {
      "mimetype": "text/x-python",
      "nbconvert_exporter": "python",
      "name": "python",
      "pygments_lexer": "ipython3",
      "version": "3.7.8-final",
      "file_extension": ".py",
      "codemirror_mode": {
        "version": 3,
        "name": "ipython"
      }
    }
  },
  "nbformat": 4,
  "nbformat_minor": 2
}