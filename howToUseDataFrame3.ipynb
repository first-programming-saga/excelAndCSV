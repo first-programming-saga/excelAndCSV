{
  "cells": [
    {
      "cell_type": "markdown",
      "metadata": {},
      "source": [
        "# pandas.DataFrameの基本的使い方:3\n",
        "CSVデータの読み込み"
      ]
    },
    {
      "cell_type": "code",
      "execution_count": null,
      "metadata": {
        "trusted": true
      },
      "outputs": [],
      "source": [
        "import pandas"
      ]
    },
    {
      "cell_type": "code",
      "execution_count": null,
      "metadata": {
        "trusted": true
      },
      "outputs": [],
      "source": [
        "def readFromCSV(filename:str)->pandas.DataFrame:\n",
        "    \"\"\"\n",
        "    Excelファイルを読み、pandas.DataFrameとする\n",
        "    \"\"\"\n",
        "    with open(filename) as f:\n",
        "        data = pandas.read_csv(f)\n",
        "    return data"
      ]
    },
    {
      "cell_type": "markdown",
      "metadata": {},
      "source": [
        "dataFrameのカラムを表示"
      ]
    },
    {
      "cell_type": "code",
      "execution_count": null,
      "metadata": {
        "trusted": true
      },
      "outputs": [],
      "source": [
        "def showColumnsAndIndex(data:pandas.DataFrame):\n",
        "    print('dataFrameの内容')\n",
        "    print(data)\n",
        "    print('認識されたカラム名')\n",
        "    print(data.columns)\n",
        "    print()"
      ]
    },
    {
      "cell_type": "code",
      "execution_count": null,
      "metadata": {
        "trusted": true
      },
      "outputs": [],
      "source": [
        "filename = 'data2.csv'\n",
        "df=readFromCSV(filename)\n",
        "showColumnsAndIndex(df)\n",
        "print('nameカラムをrow indexとして指定')\n",
        "df.set_index('name', inplace = True)\n",
        "print(df)\n",
        "print(df.iloc[0])"
      ]
    }
  ],
  "metadata": {
    "kernelspec": {
      "display_name": "Python 3.7.8 64-bit",
      "metadata": {
        "interpreter": {
          "hash": "0dffb5442d84be890217d664a91c46e420962c190ec91d07047007dfcc46efe8"
        }
      },
      "name": "python3"
    },
    "language_info": {
      "codemirror_mode": {
        "name": "ipython",
        "version": 3
      },
      "file_extension": ".py",
      "mimetype": "text/x-python",
      "name": "python",
      "nbconvert_exporter": "python",
      "pygments_lexer": "ipython3",
      "version": "3.7.8-final"
    }
  },
  "nbformat": 4,
  "nbformat_minor": 2
}
