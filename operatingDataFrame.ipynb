{
 "cells": [
  {
   "cell_type": "code",
   "execution_count": null,
   "metadata": {},
   "outputs": [],
   "source": [
    "import pandas"
   ]
  },
  {
   "cell_type": "code",
   "execution_count": null,
   "metadata": {},
   "outputs": [],
   "source": [
    "def readFromCSV(filename:str)->pandas.DataFrame:\n",
    "    \"\"\"\n",
    "    Excelファイルを読み、pandas.DataFrameとする\n",
    "    \"\"\"\n",
    "    with open(filename) as f:\n",
    "        data = pandas.read_csv(f)\n",
    "        data.set_index('name',inplace=True)\n",
    "    return data"
   ]
  },
  {
   "cell_type": "code",
   "execution_count": null,
   "metadata": {},
   "outputs": [],
   "source": [
    "df = readFromCSV(\"data2.csv\")\n",
    "avMS = (df[\"Math\"] + df[\"Science\"]) / 2 #MathとScienceの平均点\n",
    "print(avMS)\n",
    "\n",
    "count = 0\n",
    "df[\"Subject Average\"] = [0] * len(df.index)\n",
    "a = df[\"Subject Average\"]\n",
    "for c in df.columns:\n",
    "    if c != \"Subject Average\":\n",
    "        a += df[c]\n",
    "        count += 1\n",
    "a /= count\n",
    "df[\"Subject Average\"] = a\n",
    "df"
   ]
  },
  {
   "cell_type": "code",
   "execution_count": null,
   "metadata": {},
   "outputs": [],
   "source": []
  }
 ],
 "metadata": {
  "kernelspec": {
   "display_name": "Python 3.9.1 64-bit",
   "metadata": {
    "interpreter": {
     "hash": "d1c9a4ba5c9c176023b797405478169ed7f0a7109b887eab21bda023c3c6f220"
    }
   },
   "name": "python3"
  },
  "language_info": {
   "codemirror_mode": {
    "name": "ipython",
    "version": 3
   },
   "file_extension": ".py",
   "mimetype": "text/x-python",
   "name": "python",
   "nbconvert_exporter": "python",
   "pygments_lexer": "ipython3",
   "version": "3.9.1-final"
  },
  "orig_nbformat": 2
 },
 "nbformat": 4,
 "nbformat_minor": 2
}
