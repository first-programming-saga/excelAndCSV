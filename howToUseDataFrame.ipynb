{
  "cells": [
    {
      "metadata": {},
      "cell_type": "markdown",
      "source": "# pandas.DataFrameの基本的使い方(データの読み込み)"
    },
    {
      "metadata": {
        "trusted": true
      },
      "cell_type": "code",
      "source": "import pandas",
      "execution_count": null,
      "outputs": []
    },
    {
      "metadata": {
        "trusted": true
      },
      "cell_type": "code",
      "source": "def getData(filename):#Excelファイルを読み、pandas.DataFrameとする\n    with pandas.ExcelFile(filename) as f:\n        data = pandas.read_excel(f)\n    return data",
      "execution_count": null,
      "outputs": []
    },
    {
      "metadata": {},
      "cell_type": "markdown",
      "source": "dataFrameのカラムを表示"
    },
    {
      "metadata": {
        "trusted": true
      },
      "cell_type": "code",
      "source": "def showColumnsAndIndex(data):\n    print('dataFrameの内容')\n    print(data)\n    print('認識された列名')\n    print(data.columns)\n    print('認識された行名')\n    print(data.index)\n    print()",
      "execution_count": null,
      "outputs": []
    },
    {
      "metadata": {},
      "cell_type": "markdown",
      "source": "列データ"
    },
    {
      "metadata": {
        "trusted": true
      },
      "cell_type": "code",
      "source": "def accessColumn(data,col):\n    print(f'{col}カラムの内容')\n    print(data[col])\n    print(f'{col}カラムの0行目のデータ{data[col][0]}')\n    print()",
      "execution_count": null,
      "outputs": []
    },
    {
      "metadata": {},
      "cell_type": "markdown",
      "source": "行データ"
    },
    {
      "metadata": {
        "trusted": true
      },
      "cell_type": "code",
      "source": "def accessRow(data,k):\n    print('行データの取り出し')\n    print(f'{k}行目のデータ')\n    print(data.iloc[k])\n    ser = data.index\n    name=ser[k]\n    print(f'{name}のデータ')\n    print(data.loc[name])\n    print(f\"{name}のMathのデータ：{data.loc[name]['Math']}\")\n    print()    ",
      "execution_count": null,
      "outputs": []
    },
    {
      "metadata": {},
      "cell_type": "markdown",
      "source": "index の設定"
    },
    {
      "metadata": {
        "trusted": true
      },
      "cell_type": "code",
      "source": "def useIndex(data):\n    print('1列にnameという名前を付ける')\n    data.index.name='name'\n    print(data)\n    print('MathカラムのTimに対するデータ')\n    print(data['Math']['Tim'])\n    print(data['Math'][0])\n    print()",
      "execution_count": null,
      "outputs": []
    },
    {
      "metadata": {},
      "cell_type": "markdown",
      "source": "Seriesの操作"
    },
    {
      "metadata": {
        "trusted": true
      },
      "cell_type": "code",
      "source": "def seriesOperation(ser):\n    print(ser.index)\n    print(ser.values)\n    for k in ser.index:\n        v = ser[k]\n        print(f'ser[{k}]:{v}')",
      "execution_count": null,
      "outputs": []
    },
    {
      "metadata": {
        "trusted": true,
        "scrolled": true
      },
      "cell_type": "code",
      "source": "filename = 'data.xlsx'\ndf=getData(filename)\nshowColumnsAndIndex(df)\naccessColumn(df,'Math')\naccessRow(df,1)\nuseIndex(df)\n\nser = df.loc['Tim']\nseriesOperation(ser)",
      "execution_count": null,
      "outputs": []
    },
    {
      "metadata": {},
      "cell_type": "markdown",
      "source": "## 課題\nDataFrame[列名][行名]=新しい値\n\nで値を変更できる。具体的に、Timの数学の成績を100点にしてみよう。"
    },
    {
      "metadata": {
        "trusted": true
      },
      "cell_type": "code",
      "source": "",
      "execution_count": null,
      "outputs": []
    }
  ],
  "metadata": {
    "kernelspec": {
      "name": "python36",
      "display_name": "Python 3.6",
      "language": "python"
    },
    "language_info": {
      "mimetype": "text/x-python",
      "nbconvert_exporter": "python",
      "name": "python",
      "pygments_lexer": "ipython3",
      "version": "3.6.6",
      "file_extension": ".py",
      "codemirror_mode": {
        "version": 3,
        "name": "ipython"
      }
    }
  },
  "nbformat": 4,
  "nbformat_minor": 2
}