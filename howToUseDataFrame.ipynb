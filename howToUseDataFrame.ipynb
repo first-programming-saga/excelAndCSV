{
  "cells": [
    {
      "attachments": {},
      "cell_type": "markdown",
      "metadata": {},
      "source": [
        "# pandas.DataFrameの基本的使い方\n",
        "## Excelデータの読み込み"
      ]
    },
    {
      "cell_type": "code",
      "execution_count": 1,
      "metadata": {
        "trusted": true
      },
      "outputs": [],
      "source": [
        "import pandas"
      ]
    },
    {
      "attachments": {},
      "cell_type": "markdown",
      "metadata": {},
      "source": [
        "Excelファイルを読む。\n",
        "- `f`は、ファイルオブジェクト\n",
        "    - `with`を使うことで、ブロックから出て、ファイルオブジェクトが不要になると開放する。\n",
        "    - 例では、`data`に格納した後、ファイルを閉じて開放する。\n",
        "- 結果はpandas.DataFrameという形式(オブジェクト)になる。\n",
        "- `index_col = 0`: 一列目を行の名前として使うことを指定(デフォルト)\n",
        "- `header =0`: 一行目を列の名前として使うことを指定(デフォルト)"
      ]
    },
    {
      "cell_type": "code",
      "execution_count": 2,
      "metadata": {
        "trusted": true
      },
      "outputs": [],
      "source": [
        "filename = 'data.xlsx'\n",
        "#Excelファイルを読み、pandas.DataFrameとする\n",
        "with pandas.ExcelFile(filename) as f:\n",
        "    data = pandas.read_excel(f, index_col = 0, header = 0)"
      ]
    },
    {
      "attachments": {},
      "cell_type": "markdown",
      "metadata": {},
      "source": [
        "dataFrameの表示する。表の列(`columns`)と行(`index`)の名前も表示される。"
      ]
    },
    {
      "cell_type": "code",
      "execution_count": 3,
      "metadata": {
        "scrolled": true,
        "trusted": true
      },
      "outputs": [
        {
          "name": "stdout",
          "output_type": "stream",
          "text": [
            "dataFrameの内容\n",
            "       English  Math  Science  Social\n",
            "Tim         80    90       95      70\n",
            "John        80    60       70     100\n",
            "Kim        100    60       65      80\n",
            "Sally       70    80       95      70\n",
            "Tom         80    70       80      60\n",
            "Bob         70   100       90      80\n",
            "認識された列名\n",
            "Index(['English', 'Math', 'Science', 'Social'], dtype='object')\n",
            "認識された行名\n",
            "Index(['Tim', 'John', 'Kim', 'Sally', 'Tom', 'Bob'], dtype='object')\n",
            "\n"
          ]
        }
      ],
      "source": [
        "print('dataFrameの内容')\n",
        "print(data)\n",
        "print('認識された列名')\n",
        "print(data.columns)\n",
        "print('認識された行名')\n",
        "print(data.index)\n",
        "print()"
      ]
    },
    {
      "attachments": {},
      "cell_type": "markdown",
      "metadata": {},
      "source": [
        "列と行を取り出す。行や列は、pandas.Seriesという型となる。"
      ]
    },
    {
      "cell_type": "code",
      "execution_count": 10,
      "metadata": {
        "scrolled": true,
        "trusted": true
      },
      "outputs": [
        {
          "name": "stdout",
          "output_type": "stream",
          "text": [
            "列の取り出し例\n",
            "Tim       90\n",
            "John      60\n",
            "Kim       60\n",
            "Sally     80\n",
            "Tom       70\n",
            "Bob      100\n",
            "Name: Math, dtype: int64\n",
            "\n",
            "行の取り出し例\n",
            "English    100\n",
            "Math        60\n",
            "Science     65\n",
            "Social      80\n",
            "Name: Kim, dtype: int64\n",
            "\n"
          ]
        }
      ],
      "source": [
        "print('列の取り出し例')\n",
        "print(data['Math'])\n",
        "print()\n",
        "print('行の取り出し例')\n",
        "print(data.loc['Kim'])\n",
        "print()"
      ]
    },
    {
      "attachments": {},
      "cell_type": "markdown",
      "metadata": {},
      "source": [
        "セルの値を取り出す。複数の表現形式があることに注意する。"
      ]
    },
    {
      "cell_type": "code",
      "execution_count": 11,
      "metadata": {},
      "outputs": [
        {
          "name": "stdout",
          "output_type": "stream",
          "text": [
            "セルの取り出し例: KimのMathの成績\n",
            "60\n",
            "60\n",
            "60\n",
            "60\n",
            "\n",
            "全員のMathとScienceの成績を取り出し\n",
            "       Math  Science\n",
            "Tim      90       95\n",
            "John     60       70\n",
            "Kim      60       65\n",
            "Sally    80       95\n",
            "Tom      70       80\n",
            "Bob     100       90\n"
          ]
        }
      ],
      "source": [
        "print('セルの取り出し例: KimのMathの成績')\n",
        "print(data['Math']['Kim'])\n",
        "print(data.loc['Kim','Math'])\n",
        "print(data.at['Kim','Math'])\n",
        "print(data.iloc[2,1])\n",
        "print()\n",
        "print('全員のMathとScienceの成績を取り出し')\n",
        "df2 = data.iloc[:, 1:3]\n",
        "print(df2)"
      ]
    },
    {
      "attachments": {},
      "cell_type": "markdown",
      "metadata": {},
      "source": [
        "## 課題\n",
        "DataFrame\\[列名\\]\\[行名\\]=新しい値\n",
        "\n",
        "で値を変更できる。具体的に、Timの数学の成績を100点にしてみよう。"
      ]
    },
    {
      "cell_type": "code",
      "execution_count": null,
      "metadata": {
        "trusted": true
      },
      "outputs": [],
      "source": []
    }
  ],
  "metadata": {
    "kernelspec": {
      "display_name": "Python 3.9.7 ('myenv')",
      "language": "python",
      "name": "python3"
    },
    "language_info": {
      "codemirror_mode": {
        "name": "ipython",
        "version": 3
      },
      "file_extension": ".py",
      "mimetype": "text/x-python",
      "name": "python",
      "nbconvert_exporter": "python",
      "pygments_lexer": "ipython3",
      "version": "3.11.6"
    },
    "metadata": {
      "interpreter": {
        "hash": "ddafbbf4347d0b4a8ca2d67a8cf47c9a236a0ee7708cf872d86a0b5d08596010"
      }
    },
    "orig_nbformat": 3,
    "vscode": {
      "interpreter": {
        "hash": "5b50574aca822a4663eeb358827631e5cbe081f130521b0066dec6b864ef6f2f"
      }
    }
  },
  "nbformat": 4,
  "nbformat_minor": 2
}
