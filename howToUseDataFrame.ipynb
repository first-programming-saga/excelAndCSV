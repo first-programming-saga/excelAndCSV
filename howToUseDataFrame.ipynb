{
  "cells": [
    {
      "metadata": {},
      "cell_type": "markdown",
      "source": "# pandas.DataFrameの基本的使い方\n## Excelデータの読み込み"
    },
    {
      "metadata": {
        "trusted": true
      },
      "cell_type": "code",
      "source": "import pandas",
      "execution_count": null,
      "outputs": []
    },
    {
      "metadata": {},
      "cell_type": "markdown",
      "source": "Excelファイルを読む"
    },
    {
      "metadata": {
        "trusted": true
      },
      "cell_type": "code",
      "source": "filename = 'data.xlsx'",
      "execution_count": null,
      "outputs": []
    },
    {
      "metadata": {
        "trusted": true
      },
      "cell_type": "code",
      "source": "#Excelファイルを読み、pandas.DataFrameとする\nwith pandas.ExcelFile(filename) as f:\n    data = pandas.read_excel(f)",
      "execution_count": null,
      "outputs": []
    },
    {
      "metadata": {},
      "cell_type": "markdown",
      "source": "dataFrameの表示"
    },
    {
      "metadata": {
        "trusted": true,
        "scrolled": true
      },
      "cell_type": "code",
      "source": "print('dataFrameの内容')\nprint(data)\nprint('認識された列名')\nprint(data.columns)\nprint('認識された行名')\nprint(data.index)\nprint()",
      "execution_count": null,
      "outputs": []
    },
    {
      "metadata": {},
      "cell_type": "markdown",
      "source": "列、行、セルの取り出し"
    },
    {
      "metadata": {
        "trusted": true,
        "scrolled": true
      },
      "cell_type": "code",
      "source": "print('例の取り出し例')\nprint(data['Math'])\nprint()\nprint('行の取り出し例')\nprint(data.loc['Kim'])\nprint()\nprint('セルの取り出し例：KimのMathの成績')\nprint(data['Math']['Kim'])\nprint(data.loc['Kim']['Math'])\nprint()\nprint('全員のMathとScienceの成績を取り出し')\ndf2 = data.iloc[:,1:3]\nprint(df2)\n\n",
      "execution_count": null,
      "outputs": []
    },
    {
      "metadata": {},
      "cell_type": "markdown",
      "source": "## 課題\nDataFrame[列名][行名]=新しい値\n\nで値を変更できる。具体的に、Timの数学の成績を100点にしてみよう。"
    },
    {
      "metadata": {
        "trusted": true
      },
      "cell_type": "code",
      "source": "",
      "execution_count": null,
      "outputs": []
    }
  ],
  "metadata": {
    "kernelspec": {
      "name": "python36",
      "display_name": "Python 3.6",
      "language": "python"
    },
    "language_info": {
      "mimetype": "text/x-python",
      "nbconvert_exporter": "python",
      "name": "python",
      "pygments_lexer": "ipython3",
      "version": "3.6.6",
      "file_extension": ".py",
      "codemirror_mode": {
        "version": 3,
        "name": "ipython"
      }
    }
  },
  "nbformat": 4,
  "nbformat_minor": 2
}