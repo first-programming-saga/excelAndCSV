{
  "cells": [
    {
      "metadata": {},
      "cell_type": "markdown",
      "source": [
        "# pandas.DataFrameの基本的使い方\n",
        "## Excelデータの読み込み"
      ]
    },
    {
      "metadata": {
        "trusted": true
      },
      "cell_type": "code",
      "source": [
        "import pandas"
      ],
      "execution_count": null,
      "outputs": []
    },
    {
      "metadata": {},
      "cell_type": "markdown",
      "source": [
        "Excelファイルを読む"
      ]
    },
    {
      "metadata": {
        "trusted": true
      },
      "cell_type": "code",
      "source": [
        "filename = 'data.xlsx'\n",
        "#Excelファイルを読み、pandas.DataFrameとする\n",
        "with pandas.ExcelFile(filename) as f:\n",
        "    data = pandas.read_excel(f, index_col = 0)"
      ],
      "execution_count": null,
      "outputs": []
    },
    {
      "metadata": {},
      "cell_type": "markdown",
      "source": [
        "dataFrameの表示"
      ]
    },
    {
      "metadata": {
        "trusted": true,
        "scrolled": true
      },
      "cell_type": "code",
      "source": [
        "print('dataFrameの内容')\n",
        "print(data)\n",
        "print('認識された列名')\n",
        "print(data.columns)\n",
        "print('認識された行名')\n",
        "print(data.index)\n",
        "print()"
      ],
      "execution_count": null,
      "outputs": []
    },
    {
      "metadata": {},
      "cell_type": "markdown",
      "source": [
        "列、行、セルの取り出し"
      ]
    },
    {
      "metadata": {
        "trusted": true,
        "scrolled": true
      },
      "cell_type": "code",
      "source": [
        "print('例の取り出し例')\n",
        "print(data['Math'])\n",
        "print()\n",
        "print('行の取り出し例')\n",
        "print(data.loc['Kim'])\n",
        "print()\n",
        "print('セルの取り出し例：KimのMathの成績')\n",
        "print(data['Math']['Kim'])\n",
        "print(data.loc['Kim']['Math'])\n",
        "print()\n",
        "print('全員のMathとScienceの成績を取り出し')\n",
        "df2 = data.iloc[:, 1:3]\n",
        "print(df2)\n"
      ],
      "execution_count": null,
      "outputs": []
    },
    {
      "source": [
        "## 課題\n",
        "DataFrame\\[列名\\]\\[行名\\]=新しい値\n",
        "\n",
        "で値を変更できる。具体的に、Timの数学の成績を100点にしてみよう。"
      ],
      "cell_type": "markdown",
      "metadata": {}
    },
    {
      "metadata": {
        "trusted": true
      },
      "cell_type": "code",
      "source": [],
      "execution_count": null,
      "outputs": []
    }
  ],
  "metadata": {
    "kernelspec": {
      "name": "python394jvsc74a57bd08eac0b877443e672c512fc10f9a40a6551a41731384696f22385f08b2b6c8da7",
      "display_name": "Python 3.9.4 64-bit ('3.9.4': pyenv)"
    },
    "language_info": {
      "mimetype": "text/x-python",
      "nbconvert_exporter": "python",
      "name": "python",
      "pygments_lexer": "ipython3",
      "version": "3.9.4",
      "file_extension": ".py",
      "codemirror_mode": {
        "version": 3,
        "name": "ipython"
      }
    },
    "metadata": {
      "interpreter": {
        "hash": "8eac0b877443e672c512fc10f9a40a6551a41731384696f22385f08b2b6c8da7"
      }
    }
  },
  "nbformat": 4,
  "nbformat_minor": 2
}