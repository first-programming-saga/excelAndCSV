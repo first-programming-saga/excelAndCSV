{
 "cells": [
  {
   "cell_type": "code",
   "execution_count": null,
   "metadata": {},
   "outputs": [],
   "source": [
    "import pandas"
   ]
  },
  {
   "cell_type": "code",
   "execution_count": null,
   "metadata": {},
   "outputs": [],
   "source": [
    "url = 'http://data.bodik.jp/dataset/77e0cc66-c15d-4473-b3df-2664fe8e2e63/resource/8dc71515-526a-4168-866c-05d2cc8dad7b/download/jinkou.xlsx'"
   ]
  },
  {
   "cell_type": "code",
   "execution_count": null,
   "metadata": {},
   "outputs": [],
   "source": [
    "wareki={'大正9年':1920, '昭和5年':1930, '10年':1935, '15年':1940,\n",
    "        '20年':1945, '25年':1950, '30年':1955, '35年':1960,'40年':1965,\n",
    "        '45年':1970, '50年':1975, '55年':1980, '60年':1985, '平成2年':1990,\n",
    "        '7年':1995, '12年':2000, '17年':2005, '22年':2010, '27年':2015}"
   ]
  },
  {
   "cell_type": "code",
   "execution_count": null,
   "metadata": {},
   "outputs": [],
   "source": [
    "def getIndex(url:str)->dict[str,str]:\n",
    "    \"\"\"\n",
    "    URLで指定されたExcelで、V列に対応する適切な行名を取得する\n",
    "    \"\"\"\n",
    "    dd = pandas.read_excel(url, header = 3,  usecols = 'A:B,V',\n",
    "        index_col = 2, skiprows = [4, 18, 27], skipfooter = 8) \n",
    "    newIndex = dict()\n",
    "    for k in dd.index:\n",
    "        v = dd['項'][k]\n",
    "        if type(v) != str:\n",
    "            v = dd['目'][k]\n",
    "        newIndex[k] = v\n",
    "    return newIndex"
   ]
  },
  {
   "cell_type": "code",
   "execution_count": null,
   "metadata": {},
   "outputs": [],
   "source": [
    "def readData(url:str)->pandas.DataFrame:\n",
    "    \"\"\"\n",
    "    urlで指定されたExcelファイルを読む\n",
    "    \"\"\"\n",
    "    data = pandas.read_excel(url, header = 3, usecols = 'C:V',\n",
    "             index_col = 19, skiprows = [4, 18, 27], skipfooter = 8) \n",
    "    keys = getIndex(url)\n",
    "    return data.rename(columns = wareki, index = keys)"
   ]
  },
  {
   "cell_type": "code",
   "execution_count": null,
   "metadata": {},
   "outputs": [],
   "source": [
    "df = readData(url)\n",
    "df"
   ]
  }
 ],
 "metadata": {
  "interpreter": {
   "hash": "6b0d672cbe8d0a33fe0f78ef72c898ec07614ef49828a69cf214e8e34f4a3f57"
  },
  "kernelspec": {
   "display_name": "Python 3.9.7 64-bit ('myenv': conda)",
   "language": "python",
   "name": "python3"
  },
  "language_info": {
   "codemirror_mode": {
    "name": "ipython",
    "version": 3
   },
   "file_extension": ".py",
   "mimetype": "text/x-python",
   "name": "python",
   "nbconvert_exporter": "python",
   "pygments_lexer": "ipython3",
   "version": "3.9.7"
  },
  "orig_nbformat": 4
 },
 "nbformat": 4,
 "nbformat_minor": 2
}
