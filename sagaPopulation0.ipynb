{
 "cells": [
  {
   "attachments": {},
   "cell_type": "markdown",
   "metadata": {},
   "source": [
    "# 実際のデータを読み込む\n",
    "## 佐賀県の人口を例に"
   ]
  },
  {
   "cell_type": "code",
   "execution_count": null,
   "metadata": {},
   "outputs": [],
   "source": [
    "import pandas\n",
    "import re"
   ]
  },
  {
   "cell_type": "code",
   "execution_count": null,
   "metadata": {},
   "outputs": [],
   "source": [
    "#url = 'https://data.bodik.jp/dataset/77e0cc66-c15d-4473-b3df-2664fe8e2e63/resource/8dc71515-526a-4168-866c-05d2cc8dad7b/download/jinkou.xlsx'\n",
    "url = 'jinkou.xlsx'"
   ]
  },
  {
   "attachments": {},
   "cell_type": "markdown",
   "metadata": {},
   "source": [
    "## 表中の和暦を西暦に変換する辞書型\n",
    "表中では、年が和暦であり、さらに元号が省略されている部分がある。そこで、表中の年を西暦へ変更する辞書型を準備しておく。"
   ]
  },
  {
   "cell_type": "code",
   "execution_count": null,
   "metadata": {},
   "outputs": [],
   "source": [
    "wareki ={\n",
    "        '大正9年':1920, '昭和5年':1930, '10年':1935, '15年':1940,\n",
    "        '20年':1945, '25年':1950, '30年':1955, '35年':1960,'40年':1965,\n",
    "        '45年':1970, '50年':1975, '55年':1980, '60年':1985, '平成2年':1990,\n",
    "        '7年':1995, '12年':2000, '17年':2005, '22年':2010, '27年':2015}"
   ]
  },
  {
   "attachments": {},
   "cell_type": "markdown",
   "metadata": {},
   "source": [
    "# 行名の置き換え\n",
    "- A列とB列に行名があるが、二列に分かれている\n",
    "- V列は行名として使えそう\n",
    "- V列の行名からA列とB列に行名を使ったより適切な名前を辞書型で生成"
   ]
  },
  {
   "cell_type": "code",
   "execution_count": null,
   "metadata": {},
   "outputs": [],
   "source": [
    "def getIndex(url:str) -> dict[str,str]:\n",
    "    \"\"\"\n",
    "    URLで指定されたExcelで、V列に対応する適切な行名を取得する\n",
    "    \"\"\"\n",
    "    dd  = pandas.read_excel(url, header = 3,  usecols = 'A:B,V',\n",
    "        index_col = 2, skiprows = [4, 18, 27], skipfooter = 8) \n",
    "    newIndex :dict[str,str]= dict()\n",
    "    for k in dd.index:\n",
    "        v = dd['項'][k]\n",
    "        if type(v) != str:\n",
    "            v = dd['目'][k]\n",
    "        v = re.sub('\\s','',v)\n",
    "        newIndex[k] = v.strip()\n",
    "    return newIndex"
   ]
  },
  {
   "attachments": {},
   "cell_type": "markdown",
   "metadata": {},
   "source": [
    "## Excelファイル読み込み\n",
    "- C列からV列を読み込む\n",
    "- 一部の行を無視\n",
    "- フッタ部分を無視\n",
    "- 分かりやすい行名に入れ替え"
   ]
  },
  {
   "cell_type": "code",
   "execution_count": null,
   "metadata": {},
   "outputs": [],
   "source": [
    "def readData(url:str) -> pandas.DataFrame:\n",
    "    \"\"\"\n",
    "    urlで指定されたExcelファイルを読む\n",
    "    \"\"\"\n",
    "    data = pandas.read_excel(url, header = 3, usecols = 'C:V',\n",
    "             index_col = 19, skiprows = [4, 18, 27], skipfooter = 8) \n",
    "    keys = getIndex(url)\n",
    "    return data.rename(columns = wareki, index = keys)"
   ]
  },
  {
   "attachments": {},
   "cell_type": "markdown",
   "metadata": {},
   "source": [
    "## メイン部分\n",
    "\n",
    "- CSVファイルを読む。\n",
    "- ラベルの整理を行う。\n",
    "- 整理したラベルを印刷する。"
   ]
  },
  {
   "cell_type": "code",
   "execution_count": null,
   "metadata": {},
   "outputs": [],
   "source": [
    "df :pandas.DataFrame = readData(url)\n",
    "print(df)\n",
    "newIndex:dict[str,str] = getIndex(url)\n",
    "print('新しく取得した行のラベル')\n",
    "for k in newIndex.keys():\n",
    "    print(f'{k}->{newIndex[k]}')\n"
   ]
  }
 ],
 "metadata": {
  "kernelspec": {
   "display_name": "Python 3.9.10 ('myenv')",
   "language": "python",
   "name": "python3"
  },
  "language_info": {
   "codemirror_mode": {
    "name": "ipython",
    "version": 3
   },
   "file_extension": ".py",
   "mimetype": "text/x-python",
   "name": "python",
   "nbconvert_exporter": "python",
   "pygments_lexer": "ipython3",
   "version": "3.10.8"
  },
  "orig_nbformat": 4,
  "vscode": {
   "interpreter": {
    "hash": "b3b804b6b7a7d9b475cf928428dd1242016eacc24c47853aaf0f8d1d2228aa39"
   }
  }
 },
 "nbformat": 4,
 "nbformat_minor": 2
}
